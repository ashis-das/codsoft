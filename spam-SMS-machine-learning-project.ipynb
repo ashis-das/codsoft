{
 "cells": [
  {
   "cell_type": "code",
   "execution_count": 1,
   "id": "a63bf3f5",
   "metadata": {
    "_cell_guid": "b1076dfc-b9ad-4769-8c92-a6c4dae69d19",
    "_uuid": "8f2839f25d086af736a60e9eeb907d3b93b6e0e5",
    "execution": {
     "iopub.execute_input": "2023-11-26T17:57:20.971878Z",
     "iopub.status.busy": "2023-11-26T17:57:20.970962Z",
     "iopub.status.idle": "2023-11-26T17:57:23.685101Z",
     "shell.execute_reply": "2023-11-26T17:57:23.683445Z"
    },
    "papermill": {
     "duration": 2.728067,
     "end_time": "2023-11-26T17:57:23.690292",
     "exception": false,
     "start_time": "2023-11-26T17:57:20.962225",
     "status": "completed"
    },
    "tags": []
   },
   "outputs": [
    {
     "name": "stdout",
     "output_type": "stream",
     "text": [
      "Dataset size: 5572\n",
      "Number of features: 5\n"
     ]
    },
    {
     "data": {
      "text/html": [
       "<div>\n",
       "<style scoped>\n",
       "    .dataframe tbody tr th:only-of-type {\n",
       "        vertical-align: middle;\n",
       "    }\n",
       "\n",
       "    .dataframe tbody tr th {\n",
       "        vertical-align: top;\n",
       "    }\n",
       "\n",
       "    .dataframe thead th {\n",
       "        text-align: right;\n",
       "    }\n",
       "</style>\n",
       "<table border=\"1\" class=\"dataframe\">\n",
       "  <thead>\n",
       "    <tr style=\"text-align: right;\">\n",
       "      <th></th>\n",
       "      <th>messages</th>\n",
       "      <th>Label</th>\n",
       "    </tr>\n",
       "  </thead>\n",
       "  <tbody>\n",
       "    <tr>\n",
       "      <th>0</th>\n",
       "      <td>Go until jurong point, crazy.. Available only ...</td>\n",
       "      <td>ham</td>\n",
       "    </tr>\n",
       "    <tr>\n",
       "      <th>1</th>\n",
       "      <td>Ok lar... Joking wif u oni...</td>\n",
       "      <td>ham</td>\n",
       "    </tr>\n",
       "    <tr>\n",
       "      <th>2</th>\n",
       "      <td>Free entry in 2 a wkly comp to win FA Cup fina...</td>\n",
       "      <td>spam</td>\n",
       "    </tr>\n",
       "    <tr>\n",
       "      <th>3</th>\n",
       "      <td>U dun say so early hor... U c already then say...</td>\n",
       "      <td>ham</td>\n",
       "    </tr>\n",
       "    <tr>\n",
       "      <th>4</th>\n",
       "      <td>Nah I don't think he goes to usf, he lives aro...</td>\n",
       "      <td>ham</td>\n",
       "    </tr>\n",
       "    <tr>\n",
       "      <th>...</th>\n",
       "      <td>...</td>\n",
       "      <td>...</td>\n",
       "    </tr>\n",
       "    <tr>\n",
       "      <th>5567</th>\n",
       "      <td>This is the 2nd time we have tried 2 contact u...</td>\n",
       "      <td>spam</td>\n",
       "    </tr>\n",
       "    <tr>\n",
       "      <th>5568</th>\n",
       "      <td>Will Ì_ b going to esplanade fr home?</td>\n",
       "      <td>ham</td>\n",
       "    </tr>\n",
       "    <tr>\n",
       "      <th>5569</th>\n",
       "      <td>Pity, * was in mood for that. So...any other s...</td>\n",
       "      <td>ham</td>\n",
       "    </tr>\n",
       "    <tr>\n",
       "      <th>5570</th>\n",
       "      <td>The guy did some bitching but I acted like i'd...</td>\n",
       "      <td>ham</td>\n",
       "    </tr>\n",
       "    <tr>\n",
       "      <th>5571</th>\n",
       "      <td>Rofl. Its true to its name</td>\n",
       "      <td>ham</td>\n",
       "    </tr>\n",
       "  </tbody>\n",
       "</table>\n",
       "<p>5572 rows × 2 columns</p>\n",
       "</div>"
      ],
      "text/plain": [
       "                                               messages Label\n",
       "0     Go until jurong point, crazy.. Available only ...   ham\n",
       "1                         Ok lar... Joking wif u oni...   ham\n",
       "2     Free entry in 2 a wkly comp to win FA Cup fina...  spam\n",
       "3     U dun say so early hor... U c already then say...   ham\n",
       "4     Nah I don't think he goes to usf, he lives aro...   ham\n",
       "...                                                 ...   ...\n",
       "5567  This is the 2nd time we have tried 2 contact u...  spam\n",
       "5568              Will Ì_ b going to esplanade fr home?   ham\n",
       "5569  Pity, * was in mood for that. So...any other s...   ham\n",
       "5570  The guy did some bitching but I acted like i'd...   ham\n",
       "5571                         Rofl. Its true to its name   ham\n",
       "\n",
       "[5572 rows x 2 columns]"
      ]
     },
     "execution_count": 1,
     "metadata": {},
     "output_type": "execute_result"
    }
   ],
   "source": [
    "import pandas as pd\n",
    "import nltk\n",
    "import numpy as np\n",
    "import re\n",
    "\n",
    "from nltk.corpus import stopwords\n",
    "\n",
    "\n",
    "df = pd.read_csv(\"/kaggle/input/sms-spam-collection-dataset/spam.csv\",encoding='latin-1')\n",
    "df.head(5900)\n",
    "\n",
    "\n",
    "dataset_size = len(df)  \n",
    "num_features = len(df.columns)  \n",
    "\n",
    "print(\"Dataset size:\", dataset_size)\n",
    "print(\"Number of features:\", num_features)\n",
    "\n",
    "df = df[['v2','v1']]\n",
    "df.rename(columns={'v2':'messages','v1':'Label'},inplace=True)\n",
    "df.head(5572)\n"
   ]
  },
  {
   "cell_type": "markdown",
   "id": "5ee0cc45",
   "metadata": {
    "papermill": {
     "duration": 0.005953,
     "end_time": "2023-11-26T17:57:23.702569",
     "exception": false,
     "start_time": "2023-11-26T17:57:23.696616",
     "status": "completed"
    },
    "tags": []
   },
   "source": [
    "preprocessing the dataset\n"
   ]
  },
  {
   "cell_type": "code",
   "execution_count": 2,
   "id": "3e7a11bc",
   "metadata": {
    "execution": {
     "iopub.execute_input": "2023-11-26T17:57:23.717019Z",
     "iopub.status.busy": "2023-11-26T17:57:23.716520Z",
     "iopub.status.idle": "2023-11-26T17:57:23.728842Z",
     "shell.execute_reply": "2023-11-26T17:57:23.727376Z"
    },
    "papermill": {
     "duration": 0.022868,
     "end_time": "2023-11-26T17:57:23.731478",
     "exception": false,
     "start_time": "2023-11-26T17:57:23.708610",
     "status": "completed"
    },
    "tags": []
   },
   "outputs": [
    {
     "data": {
      "text/plain": [
       "messages    0\n",
       "Label       0\n",
       "dtype: int64"
      ]
     },
     "execution_count": 2,
     "metadata": {},
     "output_type": "execute_result"
    }
   ],
   "source": [
    "df.isnull().sum()"
   ]
  },
  {
   "cell_type": "code",
   "execution_count": 3,
   "id": "a02cd47f",
   "metadata": {
    "execution": {
     "iopub.execute_input": "2023-11-26T17:57:23.746302Z",
     "iopub.status.busy": "2023-11-26T17:57:23.745870Z",
     "iopub.status.idle": "2023-11-26T17:57:23.758824Z",
     "shell.execute_reply": "2023-11-26T17:57:23.757399Z"
    },
    "papermill": {
     "duration": 0.024662,
     "end_time": "2023-11-26T17:57:23.762412",
     "exception": false,
     "start_time": "2023-11-26T17:57:23.737750",
     "status": "completed"
    },
    "tags": []
   },
   "outputs": [],
   "source": [
    "Stopwords = set(stopwords.words('english'))\n",
    "def clean_text(text):\n",
    "    text = text.lower()\n",
    "    text = re.sub(r'[^0-9a-zA-Z]',' ',text)\n",
    "    #remove extra spaces\n",
    "    text = re.sub(r'\\s+',' ',text)\n",
    "    #remove stopwords\n",
    "    text = \"\".join (word for word in text.split() if word not in Stopwords)\n",
    "    return text\n",
    "    "
   ]
  },
  {
   "cell_type": "code",
   "execution_count": 4,
   "id": "d7217ae9",
   "metadata": {
    "execution": {
     "iopub.execute_input": "2023-11-26T17:57:23.777652Z",
     "iopub.status.busy": "2023-11-26T17:57:23.777183Z",
     "iopub.status.idle": "2023-11-26T17:57:23.944793Z",
     "shell.execute_reply": "2023-11-26T17:57:23.943435Z"
    },
    "papermill": {
     "duration": 0.178104,
     "end_time": "2023-11-26T17:57:23.947341",
     "exception": false,
     "start_time": "2023-11-26T17:57:23.769237",
     "status": "completed"
    },
    "tags": []
   },
   "outputs": [
    {
     "data": {
      "text/html": [
       "<div>\n",
       "<style scoped>\n",
       "    .dataframe tbody tr th:only-of-type {\n",
       "        vertical-align: middle;\n",
       "    }\n",
       "\n",
       "    .dataframe tbody tr th {\n",
       "        vertical-align: top;\n",
       "    }\n",
       "\n",
       "    .dataframe thead th {\n",
       "        text-align: right;\n",
       "    }\n",
       "</style>\n",
       "<table border=\"1\" class=\"dataframe\">\n",
       "  <thead>\n",
       "    <tr style=\"text-align: right;\">\n",
       "      <th></th>\n",
       "      <th>messages</th>\n",
       "      <th>Label</th>\n",
       "      <th>clean_text</th>\n",
       "    </tr>\n",
       "  </thead>\n",
       "  <tbody>\n",
       "    <tr>\n",
       "      <th>0</th>\n",
       "      <td>Go until jurong point, crazy.. Available only ...</td>\n",
       "      <td>ham</td>\n",
       "      <td>gojurongpointcrazyavailablebugisngreatworldlae...</td>\n",
       "    </tr>\n",
       "    <tr>\n",
       "      <th>1</th>\n",
       "      <td>Ok lar... Joking wif u oni...</td>\n",
       "      <td>ham</td>\n",
       "      <td>oklarjokingwifuoni</td>\n",
       "    </tr>\n",
       "    <tr>\n",
       "      <th>2</th>\n",
       "      <td>Free entry in 2 a wkly comp to win FA Cup fina...</td>\n",
       "      <td>spam</td>\n",
       "      <td>freeentry2wklycompwinfacupfinaltkts21stmay2005...</td>\n",
       "    </tr>\n",
       "    <tr>\n",
       "      <th>3</th>\n",
       "      <td>U dun say so early hor... U c already then say...</td>\n",
       "      <td>ham</td>\n",
       "      <td>udunsayearlyhorucalreadysay</td>\n",
       "    </tr>\n",
       "    <tr>\n",
       "      <th>4</th>\n",
       "      <td>Nah I don't think he goes to usf, he lives aro...</td>\n",
       "      <td>ham</td>\n",
       "      <td>nahthinkgoesusflivesaroundthough</td>\n",
       "    </tr>\n",
       "  </tbody>\n",
       "</table>\n",
       "</div>"
      ],
      "text/plain": [
       "                                            messages Label  \\\n",
       "0  Go until jurong point, crazy.. Available only ...   ham   \n",
       "1                      Ok lar... Joking wif u oni...   ham   \n",
       "2  Free entry in 2 a wkly comp to win FA Cup fina...  spam   \n",
       "3  U dun say so early hor... U c already then say...   ham   \n",
       "4  Nah I don't think he goes to usf, he lives aro...   ham   \n",
       "\n",
       "                                          clean_text  \n",
       "0  gojurongpointcrazyavailablebugisngreatworldlae...  \n",
       "1                                 oklarjokingwifuoni  \n",
       "2  freeentry2wklycompwinfacupfinaltkts21stmay2005...  \n",
       "3                        udunsayearlyhorucalreadysay  \n",
       "4                   nahthinkgoesusflivesaroundthough  "
      ]
     },
     "execution_count": 4,
     "metadata": {},
     "output_type": "execute_result"
    }
   ],
   "source": [
    "df['clean_text']= df['messages'].apply(clean_text)\n",
    "df.head()"
   ]
  },
  {
   "cell_type": "code",
   "execution_count": null,
   "id": "575eb11f",
   "metadata": {
    "papermill": {
     "duration": 0.006328,
     "end_time": "2023-11-26T17:57:23.960447",
     "exception": false,
     "start_time": "2023-11-26T17:57:23.954119",
     "status": "completed"
    },
    "tags": []
   },
   "outputs": [],
   "source": []
  },
  {
   "cell_type": "markdown",
   "id": "bf0a42e2",
   "metadata": {
    "papermill": {
     "duration": 0.006276,
     "end_time": "2023-11-26T17:57:23.973262",
     "exception": false,
     "start_time": "2023-11-26T17:57:23.966986",
     "status": "completed"
    },
    "tags": []
   },
   "source": [
    "input split"
   ]
  },
  {
   "cell_type": "code",
   "execution_count": 5,
   "id": "b5fd6fb5",
   "metadata": {
    "execution": {
     "iopub.execute_input": "2023-11-26T17:57:23.988251Z",
     "iopub.status.busy": "2023-11-26T17:57:23.987845Z",
     "iopub.status.idle": "2023-11-26T17:57:23.993924Z",
     "shell.execute_reply": "2023-11-26T17:57:23.992600Z"
    },
    "papermill": {
     "duration": 0.016477,
     "end_time": "2023-11-26T17:57:23.996428",
     "exception": false,
     "start_time": "2023-11-26T17:57:23.979951",
     "status": "completed"
    },
    "tags": []
   },
   "outputs": [],
   "source": [
    "X = df['clean_text']\n",
    "y = df['Label']"
   ]
  },
  {
   "cell_type": "markdown",
   "id": "c332b189",
   "metadata": {
    "papermill": {
     "duration": 0.006249,
     "end_time": "2023-11-26T17:57:24.009214",
     "exception": false,
     "start_time": "2023-11-26T17:57:24.002965",
     "status": "completed"
    },
    "tags": []
   },
   "source": [
    "model training"
   ]
  },
  {
   "cell_type": "code",
   "execution_count": 6,
   "id": "47c23bc2",
   "metadata": {
    "execution": {
     "iopub.execute_input": "2023-11-26T17:57:24.024757Z",
     "iopub.status.busy": "2023-11-26T17:57:24.024254Z",
     "iopub.status.idle": "2023-11-26T17:57:24.035558Z",
     "shell.execute_reply": "2023-11-26T17:57:24.034637Z"
    },
    "papermill": {
     "duration": 0.022491,
     "end_time": "2023-11-26T17:57:24.038241",
     "exception": false,
     "start_time": "2023-11-26T17:57:24.015750",
     "status": "completed"
    },
    "tags": []
   },
   "outputs": [],
   "source": [
    "from sklearn.pipeline import Pipeline\n",
    "from sklearn.model_selection import train_test_split, cross_val_score\n",
    "from sklearn.metrics import classification_report\n",
    "from sklearn.feature_extraction.text import CountVectorizer, TfidfVectorizer, TfidfTransformer\n",
    "\n",
    "def classify(model, X, y):\n",
    "    # train test split\n",
    "    x_train, x_test, y_train, y_test = train_test_split(X, y, test_size=0.25, random_state=42, shuffle=True, stratify=y)\n",
    "    # model training\n",
    "    pipeline_model = Pipeline([('vect', CountVectorizer()),\n",
    "                               ('tfidf',TfidfTransformer()),\n",
    "                               ('clf', model)])\n",
    "    pipeline_model.fit(x_train, y_train)\n",
    "    \n",
    "    print('Accuracy:', pipeline_model.score(x_test, y_test)*100)\n",
    "    \n",
    "\n",
    "    #y_pred = pipeline_model.predict(x_test)\n",
    "    # print(classification_report(y_test, y_pred))"
   ]
  },
  {
   "cell_type": "code",
   "execution_count": 7,
   "id": "86df9c5f",
   "metadata": {
    "execution": {
     "iopub.execute_input": "2023-11-26T17:57:24.054389Z",
     "iopub.status.busy": "2023-11-26T17:57:24.053618Z",
     "iopub.status.idle": "2023-11-26T17:57:24.187257Z",
     "shell.execute_reply": "2023-11-26T17:57:24.186057Z"
    },
    "papermill": {
     "duration": 0.145156,
     "end_time": "2023-11-26T17:57:24.190044",
     "exception": false,
     "start_time": "2023-11-26T17:57:24.044888",
     "status": "completed"
    },
    "tags": []
   },
   "outputs": [
    {
     "name": "stdout",
     "output_type": "stream",
     "text": [
      "Accuracy: 86.57573582196699\n"
     ]
    }
   ],
   "source": [
    "from sklearn.linear_model import LogisticRegression\n",
    "model = LogisticRegression()\n",
    "classify(model, X, y)"
   ]
  },
  {
   "cell_type": "code",
   "execution_count": 8,
   "id": "668b7f6f",
   "metadata": {
    "execution": {
     "iopub.execute_input": "2023-11-26T17:57:24.205873Z",
     "iopub.status.busy": "2023-11-26T17:57:24.205358Z",
     "iopub.status.idle": "2023-11-26T17:57:24.297466Z",
     "shell.execute_reply": "2023-11-26T17:57:24.296549Z"
    },
    "papermill": {
     "duration": 0.103217,
     "end_time": "2023-11-26T17:57:24.299908",
     "exception": false,
     "start_time": "2023-11-26T17:57:24.196691",
     "status": "completed"
    },
    "tags": []
   },
   "outputs": [
    {
     "name": "stdout",
     "output_type": "stream",
     "text": [
      "Accuracy: 86.71931083991386\n"
     ]
    }
   ],
   "source": [
    "from sklearn.naive_bayes import MultinomialNB\n",
    "model = MultinomialNB()\n",
    "classify(model, X, y)"
   ]
  },
  {
   "cell_type": "code",
   "execution_count": 9,
   "id": "885aa9f4",
   "metadata": {
    "execution": {
     "iopub.execute_input": "2023-11-26T17:57:24.315159Z",
     "iopub.status.busy": "2023-11-26T17:57:24.314663Z",
     "iopub.status.idle": "2023-11-26T17:57:25.111880Z",
     "shell.execute_reply": "2023-11-26T17:57:25.110429Z"
    },
    "papermill": {
     "duration": 0.808738,
     "end_time": "2023-11-26T17:57:25.115157",
     "exception": false,
     "start_time": "2023-11-26T17:57:24.306419",
     "status": "completed"
    },
    "tags": []
   },
   "outputs": [
    {
     "name": "stdout",
     "output_type": "stream",
     "text": [
      "Accuracy: 89.44723618090453\n"
     ]
    }
   ],
   "source": [
    "from sklearn.svm import SVC\n",
    "model = SVC(C=3)\n",
    "classify(model, X, y)"
   ]
  },
  {
   "cell_type": "code",
   "execution_count": 10,
   "id": "9bc2ed29",
   "metadata": {
    "execution": {
     "iopub.execute_input": "2023-11-26T17:57:25.131160Z",
     "iopub.status.busy": "2023-11-26T17:57:25.130728Z",
     "iopub.status.idle": "2023-11-26T17:57:28.493092Z",
     "shell.execute_reply": "2023-11-26T17:57:28.491857Z"
    },
    "papermill": {
     "duration": 3.373575,
     "end_time": "2023-11-26T17:57:28.495878",
     "exception": false,
     "start_time": "2023-11-26T17:57:25.122303",
     "status": "completed"
    },
    "tags": []
   },
   "outputs": [
    {
     "name": "stdout",
     "output_type": "stream",
     "text": [
      "Accuracy: 89.44723618090453\n"
     ]
    }
   ],
   "source": [
    "\n",
    "from sklearn.ensemble import RandomForestClassifier\n",
    "model = RandomForestClassifier()\n",
    "classify(model, X, y)"
   ]
  },
  {
   "cell_type": "code",
   "execution_count": null,
   "id": "f53703df",
   "metadata": {
    "papermill": {
     "duration": 0.006419,
     "end_time": "2023-11-26T17:57:28.509103",
     "exception": false,
     "start_time": "2023-11-26T17:57:28.502684",
     "status": "completed"
    },
    "tags": []
   },
   "outputs": [],
   "source": []
  }
 ],
 "metadata": {
  "kaggle": {
   "accelerator": "none",
   "dataSources": [
    {
     "datasetId": 483,
     "sourceId": 982,
     "sourceType": "datasetVersion"
    }
   ],
   "dockerImageVersionId": 30587,
   "isGpuEnabled": false,
   "isInternetEnabled": true,
   "language": "python",
   "sourceType": "notebook"
  },
  "kernelspec": {
   "display_name": "Python 3",
   "language": "python",
   "name": "python3"
  },
  "language_info": {
   "codemirror_mode": {
    "name": "ipython",
    "version": 3
   },
   "file_extension": ".py",
   "mimetype": "text/x-python",
   "name": "python",
   "nbconvert_exporter": "python",
   "pygments_lexer": "ipython3",
   "version": "3.10.12"
  },
  "papermill": {
   "default_parameters": {},
   "duration": 12.18153,
   "end_time": "2023-11-26T17:57:29.442145",
   "environment_variables": {},
   "exception": null,
   "input_path": "__notebook__.ipynb",
   "output_path": "__notebook__.ipynb",
   "parameters": {},
   "start_time": "2023-11-26T17:57:17.260615",
   "version": "2.4.0"
  }
 },
 "nbformat": 4,
 "nbformat_minor": 5
}
